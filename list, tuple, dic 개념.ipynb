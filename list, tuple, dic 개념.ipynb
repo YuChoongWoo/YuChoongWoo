{
  "nbformat": 4,
  "nbformat_minor": 0,
  "metadata": {
    "colab": {
      "name": "Untitled0.ipynb",
      "provenance": [],
      "authorship_tag": "ABX9TyP5+uD9KK/fm2zRySOfE5X1",
      "include_colab_link": true
    },
    "kernelspec": {
      "name": "python3",
      "display_name": "Python 3"
    },
    "language_info": {
      "name": "python"
    }
  },
  "cells": [
    {
      "cell_type": "markdown",
      "metadata": {
        "id": "view-in-github",
        "colab_type": "text"
      },
      "source": [
        "<a href=\"https://colab.research.google.com/github/YuChoongWoo/YuChoongWoo/blob/main/list%2C%20tuple%2C%20dic%20%EA%B0%9C%EB%85%90.ipynb\" target=\"_parent\"><img src=\"https://colab.research.google.com/assets/colab-badge.svg\" alt=\"Open In Colab\"/></a>"
      ]
    },
    {
      "cell_type": "code",
      "metadata": {
        "id": "MjvhPt_iN8pY"
      },
      "source": [
        "#인덱싱과 슬라이싱\n",
        "#순서는 다음과 같다  0(-6),1(-5),2(-4),3(-3),4(-2),5(-1)\n",
        "L=[4,5,1,2,10,6]"
      ],
      "execution_count": 28,
      "outputs": []
    },
    {
      "cell_type": "code",
      "metadata": {
        "colab": {
          "base_uri": "https://localhost:8080/"
        },
        "id": "gOQHQCueOYK-",
        "outputId": "ab44e3e2-6a79-40ed-8bf5-5083fdd3b218"
      },
      "source": [
        "L[2]"
      ],
      "execution_count": 29,
      "outputs": [
        {
          "output_type": "execute_result",
          "data": {
            "text/plain": [
              "1"
            ]
          },
          "metadata": {},
          "execution_count": 29
        }
      ]
    },
    {
      "cell_type": "code",
      "metadata": {
        "colab": {
          "base_uri": "https://localhost:8080/"
        },
        "id": "SsYCQZ-6Oz9j",
        "outputId": "f95de554-b995-4d83-e720-28931c30b054"
      },
      "source": [
        "L[4]"
      ],
      "execution_count": 30,
      "outputs": [
        {
          "output_type": "execute_result",
          "data": {
            "text/plain": [
              "10"
            ]
          },
          "metadata": {},
          "execution_count": 30
        }
      ]
    },
    {
      "cell_type": "code",
      "metadata": {
        "colab": {
          "base_uri": "https://localhost:8080/"
        },
        "id": "TgBhdUAzO17r",
        "outputId": "ce702284-d078-4771-b786-0a625d4c2f54"
      },
      "source": [
        "L[-1]"
      ],
      "execution_count": 31,
      "outputs": [
        {
          "output_type": "execute_result",
          "data": {
            "text/plain": [
              "6"
            ]
          },
          "metadata": {},
          "execution_count": 31
        }
      ]
    },
    {
      "cell_type": "code",
      "metadata": {
        "colab": {
          "base_uri": "https://localhost:8080/"
        },
        "id": "Jtdihrz5O4O7",
        "outputId": "5db29f27-82dc-499b-ac04-de07589bb7bf"
      },
      "source": [
        "L[0:3]"
      ],
      "execution_count": 32,
      "outputs": [
        {
          "output_type": "execute_result",
          "data": {
            "text/plain": [
              "[4, 5, 1]"
            ]
          },
          "metadata": {},
          "execution_count": 32
        }
      ]
    },
    {
      "cell_type": "code",
      "metadata": {
        "colab": {
          "base_uri": "https://localhost:8080/"
        },
        "id": "uTsYqgJyO6fU",
        "outputId": "2c15180d-4cac-4abb-bcc8-f0ba380b533b"
      },
      "source": [
        "L[:3]"
      ],
      "execution_count": 33,
      "outputs": [
        {
          "output_type": "execute_result",
          "data": {
            "text/plain": [
              "[4, 5, 1]"
            ]
          },
          "metadata": {},
          "execution_count": 33
        }
      ]
    },
    {
      "cell_type": "code",
      "metadata": {
        "colab": {
          "base_uri": "https://localhost:8080/"
        },
        "id": "FTZP1b1vO8eM",
        "outputId": "c1bb338b-cd5d-469c-e011-415382782677"
      },
      "source": [
        "L[2:]"
      ],
      "execution_count": 34,
      "outputs": [
        {
          "output_type": "execute_result",
          "data": {
            "text/plain": [
              "[1, 2, 10, 6]"
            ]
          },
          "metadata": {},
          "execution_count": 34
        }
      ]
    },
    {
      "cell_type": "code",
      "metadata": {
        "colab": {
          "base_uri": "https://localhost:8080/"
        },
        "id": "YxZe9q6DO-0j",
        "outputId": "aef24376-cc0e-407e-bd92-c4bd2fe4413c"
      },
      "source": [
        "#0부터 4까지 출력, 2칸씩 건너뛴다\n",
        "L[0:4:2]"
      ],
      "execution_count": 35,
      "outputs": [
        {
          "output_type": "execute_result",
          "data": {
            "text/plain": [
              "[4, 1]"
            ]
          },
          "metadata": {},
          "execution_count": 35
        }
      ]
    },
    {
      "cell_type": "code",
      "metadata": {
        "id": "XCl4XJ5dQgB9"
      },
      "source": [
        "#순회속도 비교하기(리스트와 터플)\n",
        "Large_L=list(range(10000))\n",
        "Large_T=tuple(range(10000))"
      ],
      "execution_count": 36,
      "outputs": []
    },
    {
      "cell_type": "code",
      "metadata": {
        "colab": {
          "base_uri": "https://localhost:8080/"
        },
        "id": "i8W9JKVkQ5QH",
        "outputId": "2cbed7ca-d863-4b30-8b5f-9e307cc424fb"
      },
      "source": [
        "#현재시간 반영\n",
        "import time\n",
        "time.time()"
      ],
      "execution_count": 37,
      "outputs": [
        {
          "output_type": "execute_result",
          "data": {
            "text/plain": [
              "1631924603.3891652"
            ]
          },
          "metadata": {},
          "execution_count": 37
        }
      ]
    },
    {
      "cell_type": "code",
      "metadata": {
        "colab": {
          "base_uri": "https://localhost:8080/"
        },
        "id": "4lZOCQrJRDpe",
        "outputId": "ff594417-802c-41a3-e657-07e3fd9b1934"
      },
      "source": [
        "#리스트 순회 속도 측정\n",
        "import time\n",
        "start_time=time.time()\n",
        "for val1 in Large_L:\n",
        "  pass\n",
        "end_time=time.time()\n",
        "print(end_time - start_time)"
      ],
      "execution_count": 38,
      "outputs": [
        {
          "output_type": "stream",
          "name": "stdout",
          "text": [
            "0.0009665489196777344\n"
          ]
        }
      ]
    },
    {
      "cell_type": "code",
      "metadata": {
        "colab": {
          "base_uri": "https://localhost:8080/"
        },
        "id": "NNQWpG-vRfoJ",
        "outputId": "3dc73d3d-31ea-4490-ce49-768b45bd40b1"
      },
      "source": [
        "#터플 순회 속도 측정\n",
        "import time\n",
        "start_time=time.time()\n",
        "for val2 in Large_T:\n",
        "  pass\n",
        "end_time=time.time()\n",
        "print(end_time - start_time)\n",
        "#결과 : 터플이 더 빠르다"
      ],
      "execution_count": 39,
      "outputs": [
        {
          "output_type": "stream",
          "name": "stdout",
          "text": [
            "0.0009310245513916016\n"
          ]
        }
      ]
    },
    {
      "cell_type": "code",
      "metadata": {
        "colab": {
          "base_uri": "https://localhost:8080/"
        },
        "id": "m8iEjwVpUE90",
        "outputId": "5595f52b-f52f-4d9b-b584-fa3274becc5c"
      },
      "source": [
        "#리스트 관련 함수\n",
        "#추가 함수 : append\n",
        "L1=[4,5,1,2,10]\n",
        "L1.append(15)\n",
        "print(L1)\n",
        "#끝에 추가가 된 것을 확인 할수 있다."
      ],
      "execution_count": 40,
      "outputs": [
        {
          "output_type": "stream",
          "name": "stdout",
          "text": [
            "[4, 5, 1, 2, 10, 15]\n"
          ]
        }
      ]
    },
    {
      "cell_type": "code",
      "metadata": {
        "colab": {
          "base_uri": "https://localhost:8080/"
        },
        "id": "dexMIg6eUUH2",
        "outputId": "8de9a582-0596-450b-f6f1-b0ff3853f830"
      },
      "source": [
        "#추가함수 : insert\n",
        "L2=[4,5,1,2,10]\n",
        "L2.insert(1,7)\n",
        "print(L2)\n",
        "#1번 자리에 7이 들어 간 것을 확인 할수 있다."
      ],
      "execution_count": 41,
      "outputs": [
        {
          "output_type": "stream",
          "name": "stdout",
          "text": [
            "[4, 7, 5, 1, 2, 10]\n"
          ]
        }
      ]
    },
    {
      "cell_type": "code",
      "metadata": {
        "colab": {
          "base_uri": "https://localhost:8080/"
        },
        "id": "aBQw1RV-Uhvn",
        "outputId": "27df47e5-7e07-4db3-b58f-a0c30e9b866d"
      },
      "source": [
        "#제거 함수 : remove\n",
        "L3=[1,3,2,1,4]\n",
        "L3.remove(1)\n",
        "print(L3)\n",
        "#1을 지운다."
      ],
      "execution_count": 43,
      "outputs": [
        {
          "output_type": "stream",
          "name": "stdout",
          "text": [
            "[1, 2, 1, 4]\n"
          ]
        }
      ]
    },
    {
      "cell_type": "code",
      "metadata": {
        "colab": {
          "base_uri": "https://localhost:8080/"
        },
        "id": "1oh4j2-eU_YR",
        "outputId": "c459e854-e6a7-4c1d-9579-7ab28493f7fa"
      },
      "source": [
        "#제거 함수 : pop\n",
        "L4=[4,5,1,2,10]\n",
        "print(L4.pop())\n",
        "print(L4)\n",
        "#마지막에 있는 함수를 지운다."
      ],
      "execution_count": 46,
      "outputs": [
        {
          "output_type": "stream",
          "name": "stdout",
          "text": [
            "10\n",
            "[4, 5, 1, 2]\n"
          ]
        }
      ]
    },
    {
      "cell_type": "code",
      "metadata": {
        "colab": {
          "base_uri": "https://localhost:8080/"
        },
        "id": "a2kPKP2gVTpq",
        "outputId": "30dcc015-94be-4aaa-8ce6-cb46cc1db954"
      },
      "source": [
        "#위치 찾기 함수 : index\n",
        "L5=[1,3,2,1,4]\n",
        "print('1의 위치:{}', format(L5.index(1)))"
      ],
      "execution_count": 47,
      "outputs": [
        {
          "output_type": "stream",
          "name": "stdout",
          "text": [
            "1의 위치:{} 0\n"
          ]
        }
      ]
    },
    {
      "cell_type": "code",
      "metadata": {
        "colab": {
          "base_uri": "https://localhost:8080/"
        },
        "id": "eijaJcuwX0Kr",
        "outputId": "d0d82f27-e181-4743-e10d-4737cac3d6de"
      },
      "source": [
        "#사전 생성\n",
        "dic={1:1,2:4,3:9,4:16,}\n",
        "print(dic[1])"
      ],
      "execution_count": 48,
      "outputs": [
        {
          "output_type": "stream",
          "name": "stdout",
          "text": [
            "1\n"
          ]
        }
      ]
    },
    {
      "cell_type": "code",
      "metadata": {
        "colab": {
          "base_uri": "https://localhost:8080/"
        },
        "id": "d-RChki6X-cr",
        "outputId": "2179b248-d717-485c-8979-6103750c8e59"
      },
      "source": [
        "#새로운 요소 추가\n",
        "dic[5]=20\n",
        "print(dic[5])"
      ],
      "execution_count": 49,
      "outputs": [
        {
          "output_type": "stream",
          "name": "stdout",
          "text": [
            "20\n"
          ]
        }
      ]
    },
    {
      "cell_type": "code",
      "metadata": {
        "colab": {
          "base_uri": "https://localhost:8080/"
        },
        "id": "pqQFpBeUYD6r",
        "outputId": "0cd04eb9-703f-4257-8b33-8976ae1cf348"
      },
      "source": [
        "dic"
      ],
      "execution_count": 50,
      "outputs": [
        {
          "output_type": "execute_result",
          "data": {
            "text/plain": [
              "{1: 1, 2: 4, 3: 9, 4: 16, 5: 20}"
            ]
          },
          "metadata": {},
          "execution_count": 50
        }
      ]
    },
    {
      "cell_type": "code",
      "metadata": {
        "colab": {
          "base_uri": "https://localhost:8080/"
        },
        "id": "xT5WGGNcYFpD",
        "outputId": "a2a17fd0-e3a9-4e2b-91bd-1454cb93fb1f"
      },
      "source": [
        "#요소 변경\n",
        "dic[5]=25\n",
        "print(dic[5])"
      ],
      "execution_count": 52,
      "outputs": [
        {
          "output_type": "stream",
          "name": "stdout",
          "text": [
            "25\n"
          ]
        }
      ]
    },
    {
      "cell_type": "code",
      "metadata": {
        "id": "O-eOgsxXYLe6"
      },
      "source": [
        " "
      ],
      "execution_count": null,
      "outputs": []
    }
  ]
}